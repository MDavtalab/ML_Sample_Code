{
 "cells": [
  {
   "cell_type": "markdown",
   "id": "e0818769-01df-4727-b6e6-a4d20052be8a",
   "metadata": {},
   "source": [
    "# XGBoost"
   ]
  },
  {
   "cell_type": "markdown",
   "id": "09abb83f-f8bb-42f8-8a55-0f475950bc5f",
   "metadata": {},
   "source": [
    "## Dataset \n",
    "\n",
    "Housing Prices Competition for Kaggle Learn Users\n",
    "\n",
    "https://www.kaggle.com/competitions/home-data-for-ml-course/data"
   ]
  },
  {
   "cell_type": "code",
   "execution_count": 4,
   "id": "683f613e-c65a-4480-ab71-ff8d21c13f2d",
   "metadata": {},
   "outputs": [],
   "source": [
    "import pandas as pd\n",
    "from sklearn.model_selection import train_test_split\n",
    "\n",
    "X = pd.read_csv('./train.csv', index_col='Id')\n",
    "X_test_full = pd.read_csv('./test.csv', index_col='Id')\n",
    "\n",
    "X.dropna(axis=0, subset=['SalePrice'], inplace=True)\n",
    "y = X.SalePrice              \n",
    "X.drop(['SalePrice'], axis=1, inplace=True)\n",
    "\n",
    "X_train_full, X_valid_full, y_train, y_valid = train_test_split(X, y, train_size=0.8, test_size=0.2,\n",
    "                                                                random_state=0)\n",
    "\n",
    "# \"Cardinality\" means the number of unique values in a column\n",
    "# Select categorical columns with relatively low cardinality (convenient but arbitrary)\n",
    "low_cardinality_cols = [cname for cname in X_train_full.columns if X_train_full[cname].nunique() < 10 and \n",
    "                        X_train_full[cname].dtype == \"object\"]\n",
    "\n",
    "# Select numeric columns\n",
    "numeric_cols = [cname for cname in X_train_full.columns if X_train_full[cname].dtype in ['int64', 'float64']]\n",
    "\n",
    "# Keep selected columns only\n",
    "my_cols = low_cardinality_cols + numeric_cols\n",
    "X_train = X_train_full[my_cols].copy()\n",
    "X_valid = X_valid_full[my_cols].copy()\n",
    "X_test = X_test_full[my_cols].copy()\n",
    "\n",
    "# One-hot encode the data (to shorten the code, we use pandas)\n",
    "X_train = pd.get_dummies(X_train)\n",
    "X_valid = pd.get_dummies(X_valid)\n",
    "X_test = pd.get_dummies(X_test)\n",
    "X_train, X_valid = X_train.align(X_valid, join='left', axis=1)\n",
    "X_train, X_test = X_train.align(X_test, join='left', axis=1)"
   ]
  },
  {
   "cell_type": "markdown",
   "id": "b6078ba8-5adf-4042-a050-8e9d05fb0cea",
   "metadata": {},
   "source": [
    "# XGBoost"
   ]
  },
  {
   "cell_type": "code",
   "execution_count": 8,
   "id": "e5b45666-d8db-46eb-8673-d3d116a8a685",
   "metadata": {},
   "outputs": [
    {
     "name": "stdout",
     "output_type": "stream",
     "text": [
      "Mean Absolute Error: 18161.82412510702\n"
     ]
    }
   ],
   "source": [
    "from xgboost import XGBRegressor\n",
    "from sklearn.metrics import mean_absolute_error\n",
    "\n",
    "my_model_1 = XGBRegressor(random_state=0)\n",
    "my_model_1.fit(X_train,y_train)\n",
    "\n",
    "predictions_1 = my_model_1.predict(X_valid)\n",
    "\n",
    "mae_1 = mean_absolute_error(predictions_1, y_valid)\n",
    "\n",
    "print(\"Mean Absolute Error:\" , mae_1)"
   ]
  },
  {
   "cell_type": "markdown",
   "id": "2b2cb820-7c95-4718-a368-e519fa6b3796",
   "metadata": {},
   "source": [
    "## Hyperparameters tuning "
   ]
  },
  {
   "cell_type": "code",
   "execution_count": 23,
   "id": "ffd1da3e-30d6-4d70-8594-51c40743759d",
   "metadata": {},
   "outputs": [
    {
     "name": "stdout",
     "output_type": "stream",
     "text": [
      "Mean Absolute Error: 17031.526929045376\n"
     ]
    }
   ],
   "source": [
    "my_model_2 = XGBRegressor(n_estimators=400, learning_rate=0.05,random_state=0)\n",
    "\n",
    "my_model_2.fit(X_train,y_train,\n",
    "              eval_set=[(X_valid,y_valid)],\n",
    "              verbose=False)\n",
    "\n",
    "predictions_2 = my_model_2.predict(X_valid)\n",
    "\n",
    "mae_2 = mean_absolute_error(predictions_2,y_valid)\n",
    "\n",
    "print(\"Mean Absolute Error:\" , mae_2)"
   ]
  }
 ],
 "metadata": {
  "kernelspec": {
   "display_name": "Python 3 (ipykernel)",
   "language": "python",
   "name": "python3"
  },
  "language_info": {
   "codemirror_mode": {
    "name": "ipython",
    "version": 3
   },
   "file_extension": ".py",
   "mimetype": "text/x-python",
   "name": "python",
   "nbconvert_exporter": "python",
   "pygments_lexer": "ipython3",
   "version": "3.12.3"
  }
 },
 "nbformat": 4,
 "nbformat_minor": 5
}
